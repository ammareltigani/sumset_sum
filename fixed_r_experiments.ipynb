{
 "cells": [
  {
   "cell_type": "code",
   "execution_count": 7,
   "metadata": {},
   "outputs": [],
   "source": [
    "for i in range(5):\n",
    "    code = f'var(\"x{i}\")\\nassume(x{i} > 1)\\nassume(x{i},\"integer\")'\n",
    "    exec(code)"
   ]
  },
  {
   "cell_type": "code",
   "execution_count": 8,
   "metadata": {},
   "outputs": [],
   "source": [
    "eqn1 = x0 + x1 - x2 - x3 - x4 == 0\n",
    "eqn2 = x0^2 + x1^2 - x2^2 - x3^2 - x4^2 == 6\n",
    "constraints = [x0 > 1, x0.is_integer(), x1 > 1, x1.is_integer(), x2 > 1, x2.is_integer(), x3 > 1, x3.is_integer(), x4 > 1, x4.is_integer()]"
   ]
  },
  {
   "cell_type": "code",
   "execution_count": 10,
   "metadata": {},
   "outputs": [
    {
     "data": {
      "text/plain": [
       "[[x0 == -x1 + x2 + x3 + x4, 1 < x1, x1 < x2 + x3 + x4 - 1, 1 < x2, 1 < x3, 1 < x4, -(x1 - x2 - x3 - x4)^2 - x1^2 + x2^2 + x3^2 + x4^2 + 6 == 0]]"
      ]
     },
     "execution_count": 10,
     "metadata": {},
     "output_type": "execute_result"
    }
   ],
   "source": [
    "solve([eqn1,eqn2]+constraints,x0,x1,x2,x3,x4)"
   ]
  },
  {
   "cell_type": "code",
   "execution_count": 5,
   "metadata": {},
   "outputs": [
    {
     "name": "stdout",
     "output_type": "stream",
     "text": [
      "[2, 3, 4, 5, 6, 7, 8, 9, 10, 11, 12, 13, 14]\n"
     ]
    },
    {
     "data": {
      "text/plain": [
       "[[3, 3, 2, 2, 2],\n",
       " [5, 5, 6, 2, 2],\n",
       " [8, 6, 9, 3, 2],\n",
       " [6, 8, 9, 3, 2],\n",
       " [11, 7, 12, 4, 2],\n",
       " [7, 11, 12, 4, 2],\n",
       " [5, 5, 2, 6, 2],\n",
       " [11, 11, 14, 6, 2],\n",
       " [8, 6, 3, 9, 2],\n",
       " [6, 8, 3, 9, 2],\n",
       " [11, 7, 4, 12, 2],\n",
       " [7, 11, 4, 12, 2],\n",
       " [11, 11, 6, 14, 2],\n",
       " [8, 6, 9, 2, 3],\n",
       " [6, 8, 9, 2, 3],\n",
       " [9, 8, 11, 3, 3],\n",
       " [8, 9, 11, 3, 3],\n",
       " [12, 7, 13, 3, 3],\n",
       " [7, 12, 13, 3, 3],\n",
       " [10, 10, 13, 4, 3],\n",
       " [8, 6, 2, 9, 3],\n",
       " [6, 8, 2, 9, 3],\n",
       " [9, 8, 3, 11, 3],\n",
       " [8, 9, 3, 11, 3],\n",
       " [12, 7, 3, 13, 3],\n",
       " [7, 12, 3, 13, 3],\n",
       " [10, 10, 4, 13, 3],\n",
       " [11, 7, 12, 2, 4],\n",
       " [7, 11, 12, 2, 4],\n",
       " [10, 10, 13, 3, 4],\n",
       " [11, 7, 2, 12, 4],\n",
       " [7, 11, 2, 12, 4],\n",
       " [10, 10, 3, 13, 4],\n",
       " [5, 5, 2, 2, 6],\n",
       " [11, 11, 14, 2, 6],\n",
       " [11, 11, 2, 14, 6],\n",
       " [8, 6, 3, 2, 9],\n",
       " [6, 8, 3, 2, 9],\n",
       " [8, 6, 2, 3, 9],\n",
       " [6, 8, 2, 3, 9],\n",
       " [9, 8, 3, 3, 11],\n",
       " [8, 9, 3, 3, 11],\n",
       " [11, 7, 4, 2, 12],\n",
       " [7, 11, 4, 2, 12],\n",
       " [11, 7, 2, 4, 12],\n",
       " [7, 11, 2, 4, 12],\n",
       " [12, 7, 3, 3, 13],\n",
       " [7, 12, 3, 3, 13],\n",
       " [10, 10, 4, 3, 13],\n",
       " [10, 10, 3, 4, 13],\n",
       " [11, 11, 6, 2, 14],\n",
       " [11, 11, 2, 6, 14]]"
      ]
     },
     "execution_count": 5,
     "metadata": {},
     "output_type": "execute_result"
    }
   ],
   "source": [
    "S = list(range(2,16))\n",
    "print(S)\n",
    "tuples = Tuples(S,5)\n",
    "res = []\n",
    "for tup in tuples:\n",
    "    condition1 = eqn1.subs(x0 == tup[0], x1 == tup[1], x2 == tup[2], x3 == tup[3], x4 == tup[4])\n",
    "    condition2 = eqn2.subs(x0 == tup[0], x1 == tup[1], x2 == tup[2], x3 == tup[3], x4 == tup[4])\n",
    "    if bool(condition1) and bool(condition2):\n",
    "        res.append(tup)\n",
    "res"
   ]
  }
 ],
 "metadata": {
  "kernelspec": {
   "display_name": "SageMath 9.2",
   "language": "sage",
   "name": "sagemath"
  },
  "language_info": {
   "codemirror_mode": {
    "name": "ipython",
    "version": 3
   },
   "file_extension": ".py",
   "mimetype": "text/x-python",
   "name": "python",
   "nbconvert_exporter": "python",
   "pygments_lexer": "ipython3",
   "version": "3.7.7"
  }
 },
 "nbformat": 4,
 "nbformat_minor": 4
}
